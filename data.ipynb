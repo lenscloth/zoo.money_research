{
 "cells": [
  {
   "cell_type": "code",
   "execution_count": 1,
   "metadata": {},
   "outputs": [],
   "source": [
    "import pandas as pd\n",
    "import json\n",
    "\n",
    "from info import NFTFI_QUERY_ID, FP_QUERY_ID, CONTRACT_ADDRESS\n",
    "from fetch import fetch_table\n",
    "from parse import parse_stringfied_float, parse_loan_type, parse_loan_start_date, to_inverse_slashed, to_days, to_liquidated_mask\n",
    "\n",
    "\n",
    "def loadNFTfi():\n",
    "    loan_term_df = fetch_table(NFTFI_QUERY_ID['NFTfi_LoanStarted'])\n",
    "    loan_term_df = loan_term_df[loan_term_df[\"loanDuration\"] > 1000]\n",
    "    \n",
    "    loan_liquidated = fetch_table(NFTFI_QUERY_ID['NFTfi_LoanLiquidated'])[\"loanId\"].astype(float)\n",
    "    loan_liquidated = to_liquidated_mask(loan_term_df[\"loanId\"], loan_liquidated)\n",
    "\n",
    "    # Compute APR\n",
    "    loan_amount = parse_stringfied_float(loan_term_df[\"loanPrincipalAmount\"])\n",
    "    loan_max_amount = parse_stringfied_float(loan_term_df[\"maximumRepaymentAmount\"])\n",
    "    loan_days = to_days(loan_term_df[\"loanDuration\"])\n",
    "    apr = (100 * 365 * ((loan_max_amount - loan_amount) / loan_amount) / loan_days).round(decimals=2)\n",
    "    loan_start_date = parse_loan_start_date(loan_term_df[\"loanStartTime\"])\n",
    "    return pd.DataFrame({\n",
    "        \"borrower\": to_inverse_slashed(loan_term_df[\"borrower\"]),\n",
    "        \"lender\": to_inverse_slashed(loan_term_df[\"lender\"]),\n",
    "        \"nftCollateralContract\": to_inverse_slashed(loan_term_df[\"nftCollateralContract\"]),\n",
    "        \"nftCollateralId\": loan_term_df[\"nftCollateralId\"].astype(float).astype(int),\n",
    "        \"loanDuration\": loan_days,\n",
    "        \"loanStartTime\":loan_start_date,\n",
    "        \"loanPrincipalAmount\": loan_amount,\n",
    "        \"maximumRepaymentAmount\": loan_max_amount,\n",
    "        \"apr\": apr,\n",
    "        \"loanERC20Denomination\": parse_loan_type(to_inverse_slashed(loan_term_df[\"loanERC20Denomination\"])),\n",
    "        \"loanLiquidated\": loan_liquidated,\n",
    "    })\n",
    "\n",
    "        \n",
    "def loadDirectFixedOffer():\n",
    "    loan_terms = fetch_table(NFTFI_QUERY_ID['DirectLoanFixedOffer_LoanStarted'])\n",
    "    loan_liquidated = fetch_table(NFTFI_QUERY_ID['DirectLoanFixedOffer_LoanLiquidated'])[\"loanId\"].astype(float)\n",
    "    loan_liquidated = to_liquidated_mask(loan_terms[\"loanId\"], loan_liquidated)\n",
    "    loan_term_df = pd.DataFrame()\n",
    "    for pd_row in loan_terms[\"loanTerms\"]:\n",
    "        json_row = json.loads(pd_row)\n",
    "        loan_term_df = loan_term_df.append(json_row, ignore_index=True)\n",
    "\n",
    "    # Compute APR\n",
    "    loan_amount = parse_stringfied_float(loan_term_df[\"loanPrincipalAmount\"])\n",
    "    loan_max_amount = parse_stringfied_float(loan_term_df[\"maximumRepaymentAmount\"])\n",
    "    loan_days = to_days(loan_term_df[\"loanDuration\"])\n",
    "    apr = (100 * 365 * ((loan_max_amount - loan_amount) / loan_amount) / loan_days).round(decimals=2)\n",
    "\n",
    "\n",
    "    gatherd_loan_term_df = pd.DataFrame({\n",
    "        \"borrower\": to_inverse_slashed(loan_terms[\"borrower\"]),\n",
    "        \"lender\": to_inverse_slashed(loan_terms[\"lender\"]),\n",
    "        \"nftCollateralContract\": to_inverse_slashed(loan_term_df[\"nftCollateralContract\"]),\n",
    "        \"nftCollateralId\": loan_term_df[\"nftCollateralId\"].astype(float).astype(int),\n",
    "        \"loanDuration\": loan_days,\n",
    "        \"loanStartTime\": parse_loan_start_date(loan_term_df[\"loanStartTime\"]),\n",
    "        \"loanPrincipalAmount\": loan_amount,\n",
    "        \"maximumRepaymentAmount\": loan_max_amount,\n",
    "        \"apr\": apr,\n",
    "        \"loanERC20Denomination\": parse_loan_type(to_inverse_slashed(loan_term_df[\"loanERC20Denomination\"])),\n",
    "        \"loanLiquidated\": loan_liquidated\n",
    "    })\n",
    "    \n",
    "    # remove weird loan_term\n",
    "    gatherd_loan_term_df = gatherd_loan_term_df[loan_term_df[\"loanDuration\"] > 1000]\n",
    "    return gatherd_loan_term_df        "
   ]
  },
  {
   "cell_type": "code",
   "execution_count": 2,
   "metadata": {},
   "outputs": [],
   "source": [
    "import pandas as pd\n",
    "import matplotlib.pyplot as plt\n",
    "\n",
    "from info import CONTRACT_ADDRESS, FP_QUERY_ID, TRADES_QUERY_ID\n",
    "\n",
    "\n",
    "def computeProfitAfterSale(loan_info: pd.Series, contract_name: str):\n",
    "    trade_info = fetch_table(TRADES_QUERY_ID[contract_name])\n",
    "    liquidated_loan_info = loan_info[\n",
    "        (loan_info[\"nftCollateralContract\"] == CONTRACT_ADDRESS[contract_name]) * loan_info[\"loanLiquidated\"]\n",
    "    ]\n",
    "    nft_token_id = trade_info[\"nft_token_ids_array\"].apply(lambda x: x[0] if len(x) else float(\"nan\")).astype(float)\n",
    "    sold_datetime = trade_info[\"block_time\"].apply(pd.to_datetime).dt.date\n",
    "    \n",
    "    profits = []\n",
    "    for _, liquidated_loan in liquidated_loan_info.iterrows():\n",
    "        related_trades = trade_info[\n",
    "            (nft_token_id == liquidated_loan[\"nftCollateralId\"])\n",
    "            * (sold_datetime > liquidated_loan[\"loanStartTime\"])\n",
    "        ]\n",
    "\n",
    "        if len(related_trades) > 0:\n",
    "            related_trade = related_trades.iloc[0]\n",
    "            sold_price = related_trade[\"original_amount\"]\n",
    "            principal_money = liquidated_loan[\"loanPrincipalAmount\"]\n",
    "\n",
    "            profit = sold_price / principal_money\n",
    "            profits.append(profit)\n",
    "\n",
    "    profits = pd.Series(profits)\n",
    "    print(f\"{contract_name}: #Liquidated {len(liquidated_loan_info)}, #Sold {len(profits)}, Ratio: {len(profits)/float(len(liquidated_loan_info))} , Average Profit {profits.mean()*100:2f}%, Median Profit {profits.median()*100:2f}%\")\n",
    "\n",
    "\n",
    "def computeLTV(loan_info: pd.Series, contract_name: str):\n",
    "    loan_info = loan_info[loan_info[\"nftCollateralContract\"] == CONTRACT_ADDRESS[contract_name]]\n",
    "    floor_price = fetch_table(FP_QUERY_ID[contract_name])\n",
    "    day = floor_price[\"day\"].apply(lambda x: x[:10])\n",
    "    fp = floor_price[\"floor_price\"].astype(float)\n",
    "    floor_price = pd.Series(fp.values,index=day).to_dict()\n",
    "    \n",
    "    loan_info = loan_info[loan_info[\"loanERC20Denomination\"]==\"wETH\"]\n",
    "    ltvs = []\n",
    "    for d, a in zip(loan_info[\"loanStartTime\"], loan_info[\"loanPrincipalAmount\"]):\n",
    "        s = (\"%04d-%02d-%02d\") % (d.year, d.month, d.day)\n",
    "        if s in floor_price:\n",
    "            fp = floor_price[s]\n",
    "            ltv = float(a) / float(fp)\n",
    "            ltvs.append(ltv)\n",
    "        else:\n",
    "            ltvs.append(float('nan'))\n",
    "\n",
    "    ltvs =  pd.Series(ltvs)\n",
    "    print(f'{contract_name} LTV Avg {ltvs.mean()}, Median, {ltvs.median()}, Min {ltvs.min()}, Max {ltvs.max()}')\n",
    "\n",
    "    plt.title(f\"{contract_name} LTV Distribution\")\n",
    "    plt.hist(ltvs, bins=20, range=(0, 2))\n",
    "    plt.show()\n",
    "\n",
    "\n",
    "def count_holder(loan_info: pd.Series, contract_name: str):\n",
    "    from collections import defaultdict\n",
    "\n",
    "    loan_info = loan_info[loan_info[\"nftCollateralContract\"] == CONTRACT_ADDRESS[contract_name]]\n",
    "    counter = defaultdict(set)  \n",
    "\n",
    "    for holder_account, nft_address in zip(loan_info[\"borrower\"], loan_info[\"nftCollateralId\"]):\n",
    "        counter[holder_account].add(nft_address)\n",
    "\n",
    "    counter = {k: len(v) for k, v in counter.items()}\n",
    "    histogram = list(counter.values())\n",
    "   \n",
    "    plt.title(f\"{contract_name} Num NFT Holding Distribution\")\n",
    "    plt.hist(histogram, bins=list(range(30)))\n",
    "    plt.show()\n",
    "\n",
    "\n",
    "# 지표를 뽑자\n",
    "def print_stat(loan_info: pd.Series, contract_name: str):\n",
    "    # Average APR BAYC\n",
    "    selected_loan = loan_info[loan_info[\"nftCollateralContract\"] == CONTRACT_ADDRESS[contract_name]]\n",
    "    print(f'{contract_name} Unique Loan. {len(selected_loan)}')\n",
    "    print(f'{contract_name} Loan Total. {selected_loan[selected_loan[\"loanERC20Denomination\"]==\"wETH\"][\"maximumRepaymentAmount\"].sum()} wETH')\n",
    "    print(f'{contract_name} APR avg. {selected_loan[\"apr\"].mean()}, median {selected_loan[\"apr\"].median()}, min {selected_loan[\"apr\"].min()}, max {selected_loan[\"apr\"].max()}')\n",
    "    print(f'{contract_name} Unique Loan Holder. {len(selected_loan[\"borrower\"].unique())}')\n",
    "    print(f'{contract_name} Unique NFT. {len(selected_loan[\"nftCollateralId\"].unique())}')\n",
    "    print(f'{contract_name} Loan Duration avg. {selected_loan[\"loanDuration\"].mean()}, median {selected_loan[\"loanDuration\"].median()}, min {selected_loan[\"loanDuration\"].min()}, max {selected_loan[\"loanDuration\"].max()}')\n",
    "    print(f'{contract_name} Loan Liquidation Ratio {selected_loan[\"loanLiquidated\"].astype(float).sum() / len(selected_loan)}, average liquidation ratio {loan_info[\"loanLiquidated\"].astype(float).sum() / len(loan_info)}')\n",
    "    print(f'{contract_name} Loan Principal Amount Average {selected_loan[\"loanPrincipalAmount\"].mean()}')\n",
    "\n",
    "    computeLTV(selected_loan, contract_name)\n",
    "    count_holder(selected_loan, contract_name)\n",
    "    computeProfitAfterSale(selected_loan, contract_name)"
   ]
  },
  {
   "cell_type": "code",
   "execution_count": 3,
   "metadata": {},
   "outputs": [],
   "source": [
    "import pandas as pd\n",
    "\n",
    "loan_info_b = loadNFTfi()\n",
    "loan_info_a = loadDirectFixedOffer()\n",
    "loan_info = pd.concat([loan_info_a, loan_info_b], axis=0)"
   ]
  },
  {
   "cell_type": "markdown",
   "metadata": {},
   "source": [
    "## BAYC Statistics"
   ]
  },
  {
   "cell_type": "code",
   "execution_count": 24,
   "metadata": {},
   "outputs": [
    {
     "name": "stdout",
     "output_type": "stream",
     "text": [
      "bayc Unique Loan. 426\n",
      "bayc Loan Total. 16196.908741000001 wETH\n",
      "bayc APR avg. 44.18058685446014, median 37.0, min 0.0, max 208.57\n",
      "bayc Unique Loan Holder. 122\n",
      "bayc Unique NFT. 207\n",
      "bayc Loan Duration avg. 46.84272300469483, median 30.0, min 3.0, max 120.0\n",
      "bayc Loan Liquidation Ratio 0.035211267605633804, average liquidation ratio 0.08231230984294055\n",
      "bayc Loan Principal Amount Average 9167.966203250939\n",
      "bayc LTV Avg 0.550147803027146, Median, 0.5504031902705562, Min 0.029565217391304348, Max 1.5145395799676897\n"
     ]
    },
    {
     "data": {
      "image/png": "[encoded data removed]",
      "text/plain": [
       "<Figure size 432x288 with 1 Axes>"
      ]
     },
     "metadata": {
      "needs_background": "light"
     },
     "output_type": "display_data"
    },
    {
     "data": {
      "image/png": "[encoded data removed]",
      "text/plain": [
       "<Figure size 432x288 with 1 Axes>"
      ]
     },
     "metadata": {
      "needs_background": "light"
     },
     "output_type": "display_data"
    },
    {
     "name": "stdout",
     "output_type": "stream",
     "text": [
      "bayc: #Liquidated 15, #Sold 2, Ratio: 0.13333333333333333 , Average Profit 206.294167%, Median Profit 206.294167%\n"
     ]
    }
   ],
   "source": [
    "print_stat(loan_info, \"bayc\")"
   ]
  },
  {
   "cell_type": "markdown",
   "metadata": {},
   "source": [
    "## Crypto Punks"
   ]
  },
  {
   "cell_type": "code",
   "execution_count": 25,
   "metadata": {},
   "outputs": [
    {
     "name": "stdout",
     "output_type": "stream",
     "text": [
      "cryptopunks Unique Loan. 430\n",
      "cryptopunks Loan Total. 1441.508469 wETH\n",
      "cryptopunks APR avg. 14.04786046511628, median 10.0, min 0.08, max 130.36\n",
      "cryptopunks Unique Loan Holder. 35\n",
      "cryptopunks Unique NFT. 253\n",
      "cryptopunks Loan Duration avg. 62.73953488372093, median 90.0, min 7.0, max 90.0\n",
      "cryptopunks Loan Liquidation Ratio 0.06279069767441861, average liquidation ratio 0.08231230984294055\n",
      "cryptopunks Loan Principal Amount Average 65594.36697674418\n",
      "cryptopunks LTV Avg 0.6706489755388834, Median, 0.6105900950337747, Min 0.0014410986936440342, Max 1.59566829247536\n"
     ]
    },
    {
     "data": {
      "image/png": "[encoded data removed]",
      "text/plain": [
       "<Figure size 432x288 with 1 Axes>"
      ]
     },
     "metadata": {
      "needs_background": "light"
     },
     "output_type": "display_data"
    },
    {
     "data": {
      "image/png": "[encoded data removed]",
      "text/plain": [
       "<Figure size 432x288 with 1 Axes>"
      ]
     },
     "metadata": {
      "needs_background": "light"
     },
     "output_type": "display_data"
    },
    {
     "name": "stdout",
     "output_type": "stream",
     "text": [
      "cryptopunks: #Liquidated 27, #Sold 0, Ratio: 0.0 , Average Profit nan%, Median Profit nan%\n"
     ]
    },
    {
     "name": "stderr",
     "output_type": "stream",
     "text": [
      "<ipython-input-23-d557da8f522b>:30: DeprecationWarning: The default dtype for empty Series will be 'object' instead of 'float64' in a future version. Specify a dtype explicitly to silence this warning.\n",
      "  profits = pd.Series(profits)\n"
     ]
    }
   ],
   "source": [
    "print_stat(loan_info, \"cryptopunks\")"
   ]
  },
  {
   "cell_type": "markdown",
   "metadata": {},
   "source": [
    "## Doodles"
   ]
  },
  {
   "cell_type": "code",
   "execution_count": 26,
   "metadata": {},
   "outputs": [
    {
     "name": "stdout",
     "output_type": "stream",
     "text": [
      "doodles Unique Loan. 443\n",
      "doodles Loan Total. 4411.024812767124 wETH\n",
      "doodles APR avg. 46.41004514672689, median 40.0, min 0.0, max 108.0\n",
      "doodles Unique Loan Holder. 125\n",
      "doodles Unique NFT. 266\n",
      "doodles Loan Duration avg. 40.419864559819416, median 30.0, min 1.0, max 120.0\n",
      "doodles Loan Liquidation Ratio 0.05417607223476298, average liquidation ratio 0.08231230984294055\n",
      "doodles Loan Principal Amount Average 602.6687105869074\n",
      "doodles LTV Avg 0.7900054221944396, Median, 0.6687685105569886, Min 0.1400128428571078, Max 7.222222222222222\n"
     ]
    },
    {
     "data": {
      "image/png": "[encoded data removed]",
      "text/plain": [
       "<Figure size 432x288 with 1 Axes>"
      ]
     },
     "metadata": {
      "needs_background": "light"
     },
     "output_type": "display_data"
    },
    {
     "data": {
      "image/png": "[encoded data removed]",
      "text/plain": [
       "<Figure size 432x288 with 1 Axes>"
      ]
     },
     "metadata": {
      "needs_background": "light"
     },
     "output_type": "display_data"
    },
    {
     "name": "stdout",
     "output_type": "stream",
     "text": [
      "doodles: #Liquidated 24, #Sold 2, Ratio: 0.08333333333333333 , Average Profit 171.277778%, Median Profit 171.277778%\n"
     ]
    }
   ],
   "source": [
    "print_stat(loan_info, \"doodles\")"
   ]
  },
  {
   "cell_type": "markdown",
   "metadata": {},
   "source": [
    "## World of Woman"
   ]
  },
  {
   "cell_type": "code",
   "execution_count": 27,
   "metadata": {},
   "outputs": [
    {
     "name": "stdout",
     "output_type": "stream",
     "text": [
      "worldofwomen Unique Loan. 539\n",
      "worldofwomen Loan Total. 3501.800161712328 wETH\n",
      "worldofwomen APR avg. 67.35022263450868, median 85.0, min 0.0, max 135.49\n",
      "worldofwomen Unique Loan Holder. 88\n",
      "worldofwomen Unique NFT. 205\n",
      "worldofwomen Loan Duration avg. 32.20964749536178, median 30.0, min 1.0, max 120.0\n",
      "worldofwomen Loan Liquidation Ratio 0.03525046382189239, average liquidation ratio 0.08231230984294055\n",
      "worldofwomen Loan Principal Amount Average 109.50446333170503\n",
      "worldofwomen LTV Avg 1.2920551693297904, Median, 0.9059274641227023, Min 0.12761506276150628, Max 9.030704394942806\n"
     ]
    },
    {
     "data": {
      "image/png": "[encoded data removed]",
      "text/plain": [
       "<Figure size 432x288 with 1 Axes>"
      ]
     },
     "metadata": {
      "needs_background": "light"
     },
     "output_type": "display_data"
    },
    {
     "data": {
      "image/png": "[encoded data removed]",
      "text/plain": [
       "<Figure size 432x288 with 1 Axes>"
      ]
     },
     "metadata": {
      "needs_background": "light"
     },
     "output_type": "display_data"
    },
    {
     "name": "stdout",
     "output_type": "stream",
     "text": [
      "worldofwomen: #Liquidated 19, #Sold 4, Ratio: 0.21052631578947367 , Average Profit 99.567222%, Median Profit 89.000000%\n"
     ]
    }
   ],
   "source": [
    "print_stat(loan_info, \"worldofwomen\")"
   ]
  },
  {
   "cell_type": "markdown",
   "metadata": {},
   "source": [
    "## Art Blocks2"
   ]
  },
  {
   "cell_type": "code",
   "execution_count": 28,
   "metadata": {},
   "outputs": [
    {
     "name": "stdout",
     "output_type": "stream",
     "text": [
      "artblock2 Unique Loan. 228\n",
      "artblock2 Loan Total. 1550.292342 wETH\n",
      "artblock2 APR avg. 38.16122807017542, median 25.0, min 0.1, max 228.02\n",
      "artblock2 Unique Loan Holder. 68\n",
      "artblock2 Unique NFT. 106\n",
      "artblock2 Loan Duration avg. 36.99561403508772, median 30.0, min 7.0, max 90.0\n",
      "artblock2 Loan Liquidation Ratio 0.05263157894736842, average liquidation ratio 0.08231230984294055\n",
      "artblock2 Loan Principal Amount Average 588.813153372807\n",
      "artblock2 LTV Avg 1.2900589957191275, Median, 0.8274527417159565, Min 0.0011235955056179774, Max 15.495867768595042\n"
     ]
    },
    {
     "data": {
      "image/png": "[encoded data removed]",
      "text/plain": [
       "<Figure size 432x288 with 1 Axes>"
      ]
     },
     "metadata": {
      "needs_background": "light"
     },
     "output_type": "display_data"
    },
    {
     "data": {
      "image/png": "[encoded data removed]",
      "text/plain": [
       "<Figure size 432x288 with 1 Axes>"
      ]
     },
     "metadata": {
      "needs_background": "light"
     },
     "output_type": "display_data"
    },
    {
     "name": "stdout",
     "output_type": "stream",
     "text": [
      "artblock2: #Liquidated 12, #Sold 2, Ratio: 0.16666666666666666 , Average Profit 540.625000%, Median Profit 540.625000%\n"
     ]
    }
   ],
   "source": [
    "print_stat(loan_info, \"artblock2\")"
   ]
  },
  {
   "cell_type": "code",
   "execution_count": 4,
   "metadata": {},
   "outputs": [
    {
     "name": "stdout",
     "output_type": "stream",
     "text": [
      "clonex Unique Loan. 303\n",
      "clonex Loan Total. 3087.5789350958903 wETH\n",
      "clonex APR avg. 55.82485148514848, median 45.0, min 10.0, max 120.49\n",
      "clonex Unique Loan Holder. 93\n",
      "clonex Unique NFT. 159\n",
      "clonex Loan Duration avg. 38.9042904290429, median 30.0, min 3.0, max 90.0\n",
      "clonex Loan Liquidation Ratio 0.10231023102310231, average liquidation ratio 0.08231230984294055\n",
      "clonex Loan Principal Amount Average 262.1315895636963\n",
      "clonex LTV Avg 0.7616647915349257, Median, 0.6561111111111111, Min 0.1320064334539606, Max 5.509641873278237\n"
     ]
    },
    {
     "data": {
      "image/png": "[encoded data removed]",
      "text/plain": [
       "<Figure size 432x288 with 1 Axes>"
      ]
     },
     "metadata": {
      "needs_background": "light"
     },
     "output_type": "display_data"
    },
    {
     "data": {
      "image/png": "[encoded data removed]",
      "text/plain": [
       "<Figure size 432x288 with 1 Axes>"
      ]
     },
     "metadata": {
      "needs_background": "light"
     },
     "output_type": "display_data"
    },
    {
     "name": "stdout",
     "output_type": "stream",
     "text": [
      "clonex: #Liquidated 31, #Sold 9, Ratio: 0.2903225806451613 , Average Profit 163.480653%, Median Profit 159.444444%\n"
     ]
    }
   ],
   "source": [
    "print_stat(loan_info, \"clonex\")"
   ]
  },
  {
   "cell_type": "code",
   "execution_count": 6,
   "metadata": {},
   "outputs": [
    {
     "name": "stdout",
     "output_type": "stream",
     "text": [
      "azuki Unique Loan. 225\n",
      "azuki Loan Total. 2807.818741246575 wETH\n",
      "azuki APR avg. 55.17884444444441, median 45.0, min 12.0, max 140.49\n",
      "azuki Unique Loan Holder. 95\n",
      "azuki Unique NFT. 139\n",
      "azuki Loan Duration avg. 33.404444444444444, median 30.0, min 3.0, max 90.0\n",
      "azuki Loan Liquidation Ratio 0.11555555555555555, average liquidation ratio 0.08231230984294055\n",
      "azuki Loan Principal Amount Average 364.8389336133334\n",
      "azuki LTV Avg 0.7433057667613215, Median, 0.6589262187088274, Min 0.3125, Max 2.6892430278884465\n"
     ]
    },
    {
     "data": {
      "image/png": "[encoded data removed]",
      "text/plain": [
       "<Figure size 432x288 with 1 Axes>"
      ]
     },
     "metadata": {
      "needs_background": "light"
     },
     "output_type": "display_data"
    },
    {
     "data": {
      "image/png": "[encoded data removed]",
      "text/plain": [
       "<Figure size 432x288 with 1 Axes>"
      ]
     },
     "metadata": {
      "needs_background": "light"
     },
     "output_type": "display_data"
    },
    {
     "name": "stdout",
     "output_type": "stream",
     "text": [
      "azuki: #Liquidated 26, #Sold 10, Ratio: 0.38461538461538464 , Average Profit 73.969666%, Median Profit 76.010760%\n"
     ]
    }
   ],
   "source": [
    "print_stat(loan_info, \"azuki\")"
   ]
  },
  {
   "cell_type": "markdown",
   "metadata": {},
   "source": []
  }
 ],
 "metadata": {
  "interpreter": {
   "hash": "907731678b407a418a22cf3a530f43db5367ae65da57d99ef97323dc692920bd"
  },
  "kernelspec": {
   "display_name": "Python 3.8.2 ('standigm_ask')",
   "language": "python",
   "name": "python3"
  },
  "language_info": {
   "codemirror_mode": {
    "name": "ipython",
    "version": 3
   },
   "file_extension": ".py",
   "mimetype": "text/x-python",
   "name": "python",
   "nbconvert_exporter": "python",
   "pygments_lexer": "ipython3",
   "version": "3.8.2"
  },
  "orig_nbformat": 4
 },
 "nbformat": 4,
 "nbformat_minor": 2
}
